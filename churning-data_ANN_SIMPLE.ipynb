{
 "cells": [
  {
   "cell_type": "code",
   "execution_count": 1,
   "id": "c51b6c01",
   "metadata": {
    "_cell_guid": "b1076dfc-b9ad-4769-8c92-a6c4dae69d19",
    "_uuid": "8f2839f25d086af736a60e9eeb907d3b93b6e0e5",
    "execution": {
     "iopub.execute_input": "2023-04-09T06:41:14.609692Z",
     "iopub.status.busy": "2023-04-09T06:41:14.608959Z",
     "iopub.status.idle": "2023-04-09T06:41:14.630460Z",
     "shell.execute_reply": "2023-04-09T06:41:14.628843Z"
    },
    "papermill": {
     "duration": 0.036192,
     "end_time": "2023-04-09T06:41:14.633830",
     "exception": false,
     "start_time": "2023-04-09T06:41:14.597638",
     "status": "completed"
    },
    "tags": []
   },
   "outputs": [
    {
     "name": "stdout",
     "output_type": "stream",
     "text": [
      "/kaggle/input/credit-card-customer-churn-prediction/Churn_Modelling.csv\n"
     ]
    }
   ],
   "source": [
    "# This Python 3 environment comes with many helpful analytics libraries installed\n",
    "# It is defined by the kaggle/python Docker image: https://github.com/kaggle/docker-python\n",
    "# For example, here's several helpful packages to load\n",
    "\n",
    "import numpy as np # linear algebra\n",
    "import pandas as pd # data processing, CSV file I/O (e.g. pd.read_csv)\n",
    "\n",
    "# Input data files are available in the read-only \"../input/\" directory\n",
    "# For example, running this (by clicking run or pressing Shift+Enter) will list all files under the input directory\n",
    "\n",
    "import os\n",
    "for dirname, _, filenames in os.walk('/kaggle/input'):\n",
    "    for filename in filenames:\n",
    "        print(os.path.join(dirname, filename))\n",
    "\n",
    "# You can write up to 20GB to the current directory (/kaggle/working/) that gets preserved as output when you create a version using \"Save & Run All\" \n",
    "# You can also write temporary files to /kaggle/temp/, but they won't be saved outside of the current session"
   ]
  },
  {
   "cell_type": "code",
   "execution_count": 2,
   "id": "5b2374d7",
   "metadata": {
    "execution": {
     "iopub.execute_input": "2023-04-09T06:41:14.652025Z",
     "iopub.status.busy": "2023-04-09T06:41:14.651400Z",
     "iopub.status.idle": "2023-04-09T06:41:14.713932Z",
     "shell.execute_reply": "2023-04-09T06:41:14.712870Z"
    },
    "papermill": {
     "duration": 0.074919,
     "end_time": "2023-04-09T06:41:14.716780",
     "exception": false,
     "start_time": "2023-04-09T06:41:14.641861",
     "status": "completed"
    },
    "tags": []
   },
   "outputs": [],
   "source": [
    "df=pd.read_csv('/kaggle/input/credit-card-customer-churn-prediction/Churn_Modelling.csv')"
   ]
  },
  {
   "cell_type": "code",
   "execution_count": 3,
   "id": "a0ea412f",
   "metadata": {
    "execution": {
     "iopub.execute_input": "2023-04-09T06:41:14.734201Z",
     "iopub.status.busy": "2023-04-09T06:41:14.733527Z",
     "iopub.status.idle": "2023-04-09T06:41:14.768025Z",
     "shell.execute_reply": "2023-04-09T06:41:14.766988Z"
    },
    "papermill": {
     "duration": 0.046168,
     "end_time": "2023-04-09T06:41:14.770711",
     "exception": false,
     "start_time": "2023-04-09T06:41:14.724543",
     "status": "completed"
    },
    "tags": []
   },
   "outputs": [
    {
     "data": {
      "text/html": [
       "<div>\n",
       "<style scoped>\n",
       "    .dataframe tbody tr th:only-of-type {\n",
       "        vertical-align: middle;\n",
       "    }\n",
       "\n",
       "    .dataframe tbody tr th {\n",
       "        vertical-align: top;\n",
       "    }\n",
       "\n",
       "    .dataframe thead th {\n",
       "        text-align: right;\n",
       "    }\n",
       "</style>\n",
       "<table border=\"1\" class=\"dataframe\">\n",
       "  <thead>\n",
       "    <tr style=\"text-align: right;\">\n",
       "      <th></th>\n",
       "      <th>RowNumber</th>\n",
       "      <th>CustomerId</th>\n",
       "      <th>Surname</th>\n",
       "      <th>CreditScore</th>\n",
       "      <th>Geography</th>\n",
       "      <th>Gender</th>\n",
       "      <th>Age</th>\n",
       "      <th>Tenure</th>\n",
       "      <th>Balance</th>\n",
       "      <th>NumOfProducts</th>\n",
       "      <th>HasCrCard</th>\n",
       "      <th>IsActiveMember</th>\n",
       "      <th>EstimatedSalary</th>\n",
       "      <th>Exited</th>\n",
       "    </tr>\n",
       "  </thead>\n",
       "  <tbody>\n",
       "    <tr>\n",
       "      <th>0</th>\n",
       "      <td>1</td>\n",
       "      <td>15634602</td>\n",
       "      <td>Hargrave</td>\n",
       "      <td>619</td>\n",
       "      <td>France</td>\n",
       "      <td>Female</td>\n",
       "      <td>42</td>\n",
       "      <td>2</td>\n",
       "      <td>0.00</td>\n",
       "      <td>1</td>\n",
       "      <td>1</td>\n",
       "      <td>1</td>\n",
       "      <td>101348.88</td>\n",
       "      <td>1</td>\n",
       "    </tr>\n",
       "    <tr>\n",
       "      <th>1</th>\n",
       "      <td>2</td>\n",
       "      <td>15647311</td>\n",
       "      <td>Hill</td>\n",
       "      <td>608</td>\n",
       "      <td>Spain</td>\n",
       "      <td>Female</td>\n",
       "      <td>41</td>\n",
       "      <td>1</td>\n",
       "      <td>83807.86</td>\n",
       "      <td>1</td>\n",
       "      <td>0</td>\n",
       "      <td>1</td>\n",
       "      <td>112542.58</td>\n",
       "      <td>0</td>\n",
       "    </tr>\n",
       "    <tr>\n",
       "      <th>2</th>\n",
       "      <td>3</td>\n",
       "      <td>15619304</td>\n",
       "      <td>Onio</td>\n",
       "      <td>502</td>\n",
       "      <td>France</td>\n",
       "      <td>Female</td>\n",
       "      <td>42</td>\n",
       "      <td>8</td>\n",
       "      <td>159660.80</td>\n",
       "      <td>3</td>\n",
       "      <td>1</td>\n",
       "      <td>0</td>\n",
       "      <td>113931.57</td>\n",
       "      <td>1</td>\n",
       "    </tr>\n",
       "    <tr>\n",
       "      <th>3</th>\n",
       "      <td>4</td>\n",
       "      <td>15701354</td>\n",
       "      <td>Boni</td>\n",
       "      <td>699</td>\n",
       "      <td>France</td>\n",
       "      <td>Female</td>\n",
       "      <td>39</td>\n",
       "      <td>1</td>\n",
       "      <td>0.00</td>\n",
       "      <td>2</td>\n",
       "      <td>0</td>\n",
       "      <td>0</td>\n",
       "      <td>93826.63</td>\n",
       "      <td>0</td>\n",
       "    </tr>\n",
       "    <tr>\n",
       "      <th>4</th>\n",
       "      <td>5</td>\n",
       "      <td>15737888</td>\n",
       "      <td>Mitchell</td>\n",
       "      <td>850</td>\n",
       "      <td>Spain</td>\n",
       "      <td>Female</td>\n",
       "      <td>43</td>\n",
       "      <td>2</td>\n",
       "      <td>125510.82</td>\n",
       "      <td>1</td>\n",
       "      <td>1</td>\n",
       "      <td>1</td>\n",
       "      <td>79084.10</td>\n",
       "      <td>0</td>\n",
       "    </tr>\n",
       "  </tbody>\n",
       "</table>\n",
       "</div>"
      ],
      "text/plain": [
       "   RowNumber  CustomerId   Surname  CreditScore Geography  Gender  Age  \\\n",
       "0          1    15634602  Hargrave          619    France  Female   42   \n",
       "1          2    15647311      Hill          608     Spain  Female   41   \n",
       "2          3    15619304      Onio          502    France  Female   42   \n",
       "3          4    15701354      Boni          699    France  Female   39   \n",
       "4          5    15737888  Mitchell          850     Spain  Female   43   \n",
       "\n",
       "   Tenure    Balance  NumOfProducts  HasCrCard  IsActiveMember  \\\n",
       "0       2       0.00              1          1               1   \n",
       "1       1   83807.86              1          0               1   \n",
       "2       8  159660.80              3          1               0   \n",
       "3       1       0.00              2          0               0   \n",
       "4       2  125510.82              1          1               1   \n",
       "\n",
       "   EstimatedSalary  Exited  \n",
       "0        101348.88       1  \n",
       "1        112542.58       0  \n",
       "2        113931.57       1  \n",
       "3         93826.63       0  \n",
       "4         79084.10       0  "
      ]
     },
     "execution_count": 3,
     "metadata": {},
     "output_type": "execute_result"
    }
   ],
   "source": [
    "df.head()"
   ]
  },
  {
   "cell_type": "code",
   "execution_count": 4,
   "id": "ebe717d6",
   "metadata": {
    "execution": {
     "iopub.execute_input": "2023-04-09T06:41:14.788594Z",
     "iopub.status.busy": "2023-04-09T06:41:14.788169Z",
     "iopub.status.idle": "2023-04-09T06:41:14.796137Z",
     "shell.execute_reply": "2023-04-09T06:41:14.794824Z"
    },
    "papermill": {
     "duration": 0.020116,
     "end_time": "2023-04-09T06:41:14.799014",
     "exception": false,
     "start_time": "2023-04-09T06:41:14.778898",
     "status": "completed"
    },
    "tags": []
   },
   "outputs": [
    {
     "data": {
      "text/plain": [
       "(10000, 14)"
      ]
     },
     "execution_count": 4,
     "metadata": {},
     "output_type": "execute_result"
    }
   ],
   "source": [
    "df.shape"
   ]
  },
  {
   "cell_type": "code",
   "execution_count": 5,
   "id": "15a48d21",
   "metadata": {
    "execution": {
     "iopub.execute_input": "2023-04-09T06:41:14.817622Z",
     "iopub.status.busy": "2023-04-09T06:41:14.816622Z",
     "iopub.status.idle": "2023-04-09T06:41:14.849911Z",
     "shell.execute_reply": "2023-04-09T06:41:14.848483Z"
    },
    "papermill": {
     "duration": 0.04523,
     "end_time": "2023-04-09T06:41:14.852451",
     "exception": false,
     "start_time": "2023-04-09T06:41:14.807221",
     "status": "completed"
    },
    "tags": []
   },
   "outputs": [
    {
     "name": "stdout",
     "output_type": "stream",
     "text": [
      "<class 'pandas.core.frame.DataFrame'>\n",
      "RangeIndex: 10000 entries, 0 to 9999\n",
      "Data columns (total 14 columns):\n",
      " #   Column           Non-Null Count  Dtype  \n",
      "---  ------           --------------  -----  \n",
      " 0   RowNumber        10000 non-null  int64  \n",
      " 1   CustomerId       10000 non-null  int64  \n",
      " 2   Surname          10000 non-null  object \n",
      " 3   CreditScore      10000 non-null  int64  \n",
      " 4   Geography        10000 non-null  object \n",
      " 5   Gender           10000 non-null  object \n",
      " 6   Age              10000 non-null  int64  \n",
      " 7   Tenure           10000 non-null  int64  \n",
      " 8   Balance          10000 non-null  float64\n",
      " 9   NumOfProducts    10000 non-null  int64  \n",
      " 10  HasCrCard        10000 non-null  int64  \n",
      " 11  IsActiveMember   10000 non-null  int64  \n",
      " 12  EstimatedSalary  10000 non-null  float64\n",
      " 13  Exited           10000 non-null  int64  \n",
      "dtypes: float64(2), int64(9), object(3)\n",
      "memory usage: 1.1+ MB\n"
     ]
    }
   ],
   "source": [
    "df.info()"
   ]
  },
  {
   "cell_type": "code",
   "execution_count": 6,
   "id": "beefd453",
   "metadata": {
    "execution": {
     "iopub.execute_input": "2023-04-09T06:41:14.871273Z",
     "iopub.status.busy": "2023-04-09T06:41:14.870724Z",
     "iopub.status.idle": "2023-04-09T06:41:14.896286Z",
     "shell.execute_reply": "2023-04-09T06:41:14.894921Z"
    },
    "papermill": {
     "duration": 0.038444,
     "end_time": "2023-04-09T06:41:14.899491",
     "exception": false,
     "start_time": "2023-04-09T06:41:14.861047",
     "status": "completed"
    },
    "tags": []
   },
   "outputs": [
    {
     "data": {
      "text/plain": [
       "0"
      ]
     },
     "execution_count": 6,
     "metadata": {},
     "output_type": "execute_result"
    }
   ],
   "source": [
    "df.duplicated().sum()"
   ]
  },
  {
   "cell_type": "code",
   "execution_count": 7,
   "id": "ce57d1aa",
   "metadata": {
    "execution": {
     "iopub.execute_input": "2023-04-09T06:41:14.918438Z",
     "iopub.status.busy": "2023-04-09T06:41:14.917990Z",
     "iopub.status.idle": "2023-04-09T06:41:14.927892Z",
     "shell.execute_reply": "2023-04-09T06:41:14.926553Z"
    },
    "papermill": {
     "duration": 0.022373,
     "end_time": "2023-04-09T06:41:14.930739",
     "exception": false,
     "start_time": "2023-04-09T06:41:14.908366",
     "status": "completed"
    },
    "tags": []
   },
   "outputs": [
    {
     "data": {
      "text/plain": [
       "0    7963\n",
       "1    2037\n",
       "Name: Exited, dtype: int64"
      ]
     },
     "execution_count": 7,
     "metadata": {},
     "output_type": "execute_result"
    }
   ],
   "source": [
    "df['Exited'].value_counts()"
   ]
  },
  {
   "cell_type": "code",
   "execution_count": 8,
   "id": "43c4793d",
   "metadata": {
    "execution": {
     "iopub.execute_input": "2023-04-09T06:41:14.950521Z",
     "iopub.status.busy": "2023-04-09T06:41:14.950074Z",
     "iopub.status.idle": "2023-04-09T06:41:14.960563Z",
     "shell.execute_reply": "2023-04-09T06:41:14.959319Z"
    },
    "papermill": {
     "duration": 0.022822,
     "end_time": "2023-04-09T06:41:14.963130",
     "exception": false,
     "start_time": "2023-04-09T06:41:14.940308",
     "status": "completed"
    },
    "tags": []
   },
   "outputs": [
    {
     "data": {
      "text/plain": [
       "France     5014\n",
       "Germany    2509\n",
       "Spain      2477\n",
       "Name: Geography, dtype: int64"
      ]
     },
     "execution_count": 8,
     "metadata": {},
     "output_type": "execute_result"
    }
   ],
   "source": [
    "df['Geography'].value_counts()"
   ]
  },
  {
   "cell_type": "code",
   "execution_count": 9,
   "id": "cf631031",
   "metadata": {
    "execution": {
     "iopub.execute_input": "2023-04-09T06:41:14.981683Z",
     "iopub.status.busy": "2023-04-09T06:41:14.981286Z",
     "iopub.status.idle": "2023-04-09T06:41:14.991155Z",
     "shell.execute_reply": "2023-04-09T06:41:14.989954Z"
    },
    "papermill": {
     "duration": 0.022191,
     "end_time": "2023-04-09T06:41:14.993647",
     "exception": false,
     "start_time": "2023-04-09T06:41:14.971456",
     "status": "completed"
    },
    "tags": []
   },
   "outputs": [
    {
     "data": {
      "text/plain": [
       "Male      5457\n",
       "Female    4543\n",
       "Name: Gender, dtype: int64"
      ]
     },
     "execution_count": 9,
     "metadata": {},
     "output_type": "execute_result"
    }
   ],
   "source": [
    "df['Gender'].value_counts()"
   ]
  },
  {
   "cell_type": "code",
   "execution_count": 10,
   "id": "461693a2",
   "metadata": {
    "execution": {
     "iopub.execute_input": "2023-04-09T06:41:15.012928Z",
     "iopub.status.busy": "2023-04-09T06:41:15.012486Z",
     "iopub.status.idle": "2023-04-09T06:41:15.021536Z",
     "shell.execute_reply": "2023-04-09T06:41:15.020371Z"
    },
    "papermill": {
     "duration": 0.021673,
     "end_time": "2023-04-09T06:41:15.023920",
     "exception": false,
     "start_time": "2023-04-09T06:41:15.002247",
     "status": "completed"
    },
    "tags": []
   },
   "outputs": [],
   "source": [
    "df.drop(columns=['RowNumber','CustomerId','Surname'],inplace=True)"
   ]
  },
  {
   "cell_type": "code",
   "execution_count": 11,
   "id": "11a2c5c1",
   "metadata": {
    "execution": {
     "iopub.execute_input": "2023-04-09T06:41:15.043209Z",
     "iopub.status.busy": "2023-04-09T06:41:15.042806Z",
     "iopub.status.idle": "2023-04-09T06:41:15.050080Z",
     "shell.execute_reply": "2023-04-09T06:41:15.048734Z"
    },
    "papermill": {
     "duration": 0.019861,
     "end_time": "2023-04-09T06:41:15.052409",
     "exception": false,
     "start_time": "2023-04-09T06:41:15.032548",
     "status": "completed"
    },
    "tags": []
   },
   "outputs": [
    {
     "data": {
      "text/plain": [
       "(10000, 11)"
      ]
     },
     "execution_count": 11,
     "metadata": {},
     "output_type": "execute_result"
    }
   ],
   "source": [
    "df.shape"
   ]
  },
  {
   "cell_type": "code",
   "execution_count": 12,
   "id": "464055bd",
   "metadata": {
    "execution": {
     "iopub.execute_input": "2023-04-09T06:41:15.072471Z",
     "iopub.status.busy": "2023-04-09T06:41:15.071678Z",
     "iopub.status.idle": "2023-04-09T06:41:15.086798Z",
     "shell.execute_reply": "2023-04-09T06:41:15.085662Z"
    },
    "papermill": {
     "duration": 0.028758,
     "end_time": "2023-04-09T06:41:15.089740",
     "exception": false,
     "start_time": "2023-04-09T06:41:15.060982",
     "status": "completed"
    },
    "tags": []
   },
   "outputs": [],
   "source": [
    "df=pd.get_dummies(df,columns=['Geography','Gender'],drop_first=True)"
   ]
  },
  {
   "cell_type": "code",
   "execution_count": 13,
   "id": "1bb601a3",
   "metadata": {
    "execution": {
     "iopub.execute_input": "2023-04-09T06:41:15.109257Z",
     "iopub.status.busy": "2023-04-09T06:41:15.108824Z",
     "iopub.status.idle": "2023-04-09T06:41:16.379547Z",
     "shell.execute_reply": "2023-04-09T06:41:16.378464Z"
    },
    "papermill": {
     "duration": 1.283931,
     "end_time": "2023-04-09T06:41:16.382342",
     "exception": false,
     "start_time": "2023-04-09T06:41:15.098411",
     "status": "completed"
    },
    "tags": []
   },
   "outputs": [],
   "source": [
    "X=df.drop(columns=['Exited'])\n",
    "y=df['Exited']\n",
    "from sklearn.model_selection import train_test_split\n",
    "X_train,X_test,y_train,y_test=train_test_split(X,y,test_size=0.2,random_state=1)"
   ]
  },
  {
   "cell_type": "code",
   "execution_count": 14,
   "id": "1d508d96",
   "metadata": {
    "execution": {
     "iopub.execute_input": "2023-04-09T06:41:16.401539Z",
     "iopub.status.busy": "2023-04-09T06:41:16.401104Z",
     "iopub.status.idle": "2023-04-09T06:41:16.409001Z",
     "shell.execute_reply": "2023-04-09T06:41:16.407323Z"
    },
    "papermill": {
     "duration": 0.020671,
     "end_time": "2023-04-09T06:41:16.411911",
     "exception": false,
     "start_time": "2023-04-09T06:41:16.391240",
     "status": "completed"
    },
    "tags": []
   },
   "outputs": [
    {
     "data": {
      "text/plain": [
       "(8000, 11)"
      ]
     },
     "execution_count": 14,
     "metadata": {},
     "output_type": "execute_result"
    }
   ],
   "source": [
    "X_train.shape"
   ]
  },
  {
   "cell_type": "code",
   "execution_count": 15,
   "id": "d33286dd",
   "metadata": {
    "execution": {
     "iopub.execute_input": "2023-04-09T06:41:16.432209Z",
     "iopub.status.busy": "2023-04-09T06:41:16.431752Z",
     "iopub.status.idle": "2023-04-09T06:41:16.447709Z",
     "shell.execute_reply": "2023-04-09T06:41:16.446497Z"
    },
    "papermill": {
     "duration": 0.029165,
     "end_time": "2023-04-09T06:41:16.450285",
     "exception": false,
     "start_time": "2023-04-09T06:41:16.421120",
     "status": "completed"
    },
    "tags": []
   },
   "outputs": [
    {
     "data": {
      "text/html": [
       "<div>\n",
       "<style scoped>\n",
       "    .dataframe tbody tr th:only-of-type {\n",
       "        vertical-align: middle;\n",
       "    }\n",
       "\n",
       "    .dataframe tbody tr th {\n",
       "        vertical-align: top;\n",
       "    }\n",
       "\n",
       "    .dataframe thead th {\n",
       "        text-align: right;\n",
       "    }\n",
       "</style>\n",
       "<table border=\"1\" class=\"dataframe\">\n",
       "  <thead>\n",
       "    <tr style=\"text-align: right;\">\n",
       "      <th></th>\n",
       "      <th>CreditScore</th>\n",
       "      <th>Age</th>\n",
       "      <th>Tenure</th>\n",
       "      <th>Balance</th>\n",
       "      <th>NumOfProducts</th>\n",
       "      <th>HasCrCard</th>\n",
       "      <th>IsActiveMember</th>\n",
       "      <th>EstimatedSalary</th>\n",
       "      <th>Geography_Germany</th>\n",
       "      <th>Geography_Spain</th>\n",
       "      <th>Gender_Male</th>\n",
       "    </tr>\n",
       "  </thead>\n",
       "  <tbody>\n",
       "    <tr>\n",
       "      <th>2694</th>\n",
       "      <td>628</td>\n",
       "      <td>29</td>\n",
       "      <td>3</td>\n",
       "      <td>113146.98</td>\n",
       "      <td>2</td>\n",
       "      <td>0</td>\n",
       "      <td>1</td>\n",
       "      <td>124749.08</td>\n",
       "      <td>1</td>\n",
       "      <td>0</td>\n",
       "      <td>1</td>\n",
       "    </tr>\n",
       "    <tr>\n",
       "      <th>5140</th>\n",
       "      <td>626</td>\n",
       "      <td>29</td>\n",
       "      <td>4</td>\n",
       "      <td>105767.28</td>\n",
       "      <td>2</td>\n",
       "      <td>0</td>\n",
       "      <td>0</td>\n",
       "      <td>41104.82</td>\n",
       "      <td>0</td>\n",
       "      <td>0</td>\n",
       "      <td>0</td>\n",
       "    </tr>\n",
       "    <tr>\n",
       "      <th>2568</th>\n",
       "      <td>612</td>\n",
       "      <td>47</td>\n",
       "      <td>6</td>\n",
       "      <td>130024.87</td>\n",
       "      <td>1</td>\n",
       "      <td>1</td>\n",
       "      <td>1</td>\n",
       "      <td>45750.21</td>\n",
       "      <td>1</td>\n",
       "      <td>0</td>\n",
       "      <td>0</td>\n",
       "    </tr>\n",
       "    <tr>\n",
       "      <th>3671</th>\n",
       "      <td>646</td>\n",
       "      <td>52</td>\n",
       "      <td>6</td>\n",
       "      <td>111739.40</td>\n",
       "      <td>2</td>\n",
       "      <td>0</td>\n",
       "      <td>1</td>\n",
       "      <td>68367.18</td>\n",
       "      <td>1</td>\n",
       "      <td>0</td>\n",
       "      <td>0</td>\n",
       "    </tr>\n",
       "    <tr>\n",
       "      <th>7427</th>\n",
       "      <td>714</td>\n",
       "      <td>33</td>\n",
       "      <td>8</td>\n",
       "      <td>122017.19</td>\n",
       "      <td>1</td>\n",
       "      <td>0</td>\n",
       "      <td>0</td>\n",
       "      <td>162515.17</td>\n",
       "      <td>0</td>\n",
       "      <td>1</td>\n",
       "      <td>1</td>\n",
       "    </tr>\n",
       "  </tbody>\n",
       "</table>\n",
       "</div>"
      ],
      "text/plain": [
       "      CreditScore  Age  Tenure    Balance  NumOfProducts  HasCrCard  \\\n",
       "2694          628   29       3  113146.98              2          0   \n",
       "5140          626   29       4  105767.28              2          0   \n",
       "2568          612   47       6  130024.87              1          1   \n",
       "3671          646   52       6  111739.40              2          0   \n",
       "7427          714   33       8  122017.19              1          0   \n",
       "\n",
       "      IsActiveMember  EstimatedSalary  Geography_Germany  Geography_Spain  \\\n",
       "2694               1        124749.08                  1                0   \n",
       "5140               0         41104.82                  0                0   \n",
       "2568               1         45750.21                  1                0   \n",
       "3671               1         68367.18                  1                0   \n",
       "7427               0        162515.17                  0                1   \n",
       "\n",
       "      Gender_Male  \n",
       "2694            1  \n",
       "5140            0  \n",
       "2568            0  \n",
       "3671            0  \n",
       "7427            1  "
      ]
     },
     "execution_count": 15,
     "metadata": {},
     "output_type": "execute_result"
    }
   ],
   "source": [
    "X_train.head()"
   ]
  },
  {
   "cell_type": "code",
   "execution_count": 16,
   "id": "3b66029d",
   "metadata": {
    "execution": {
     "iopub.execute_input": "2023-04-09T06:41:16.470503Z",
     "iopub.status.busy": "2023-04-09T06:41:16.470073Z",
     "iopub.status.idle": "2023-04-09T06:41:16.485239Z",
     "shell.execute_reply": "2023-04-09T06:41:16.483831Z"
    },
    "papermill": {
     "duration": 0.028657,
     "end_time": "2023-04-09T06:41:16.488040",
     "exception": false,
     "start_time": "2023-04-09T06:41:16.459383",
     "status": "completed"
    },
    "tags": []
   },
   "outputs": [],
   "source": [
    "from sklearn.preprocessing import StandardScaler\n",
    "scaler=StandardScaler()\n",
    "\n",
    "X_train_scaled=scaler.fit_transform(X_train)\n",
    "X_test_scaled=scaler.transform(X_test)"
   ]
  },
  {
   "cell_type": "code",
   "execution_count": 17,
   "id": "0145a56e",
   "metadata": {
    "execution": {
     "iopub.execute_input": "2023-04-09T06:41:16.508750Z",
     "iopub.status.busy": "2023-04-09T06:41:16.508297Z",
     "iopub.status.idle": "2023-04-09T06:41:26.519566Z",
     "shell.execute_reply": "2023-04-09T06:41:26.518313Z"
    },
    "papermill": {
     "duration": 10.024726,
     "end_time": "2023-04-09T06:41:26.522253",
     "exception": false,
     "start_time": "2023-04-09T06:41:16.497527",
     "status": "completed"
    },
    "tags": []
   },
   "outputs": [],
   "source": [
    "import tensorflow\n",
    "from tensorflow import keras\n",
    "from tensorflow.keras import Sequential\n",
    "from tensorflow.keras.layers import Dense"
   ]
  },
  {
   "cell_type": "code",
   "execution_count": 18,
   "id": "082ed961",
   "metadata": {
    "execution": {
     "iopub.execute_input": "2023-04-09T06:41:26.543549Z",
     "iopub.status.busy": "2023-04-09T06:41:26.542045Z",
     "iopub.status.idle": "2023-04-09T06:41:26.790344Z",
     "shell.execute_reply": "2023-04-09T06:41:26.788899Z"
    },
    "papermill": {
     "duration": 0.262049,
     "end_time": "2023-04-09T06:41:26.793467",
     "exception": false,
     "start_time": "2023-04-09T06:41:26.531418",
     "status": "completed"
    },
    "tags": []
   },
   "outputs": [],
   "source": [
    "model=Sequential()\n",
    "#1 input layer 1 output layer 1 hidden layer hidden layer has 3 perceptron\n",
    "\n",
    "model.add(Dense(11,activation='sigmoid',input_dim=11))\n",
    "model.add(Dense(11,activation='sigmoid'))#hidden layer\n",
    "model.add(Dense(1,activation='sigmoid'))"
   ]
  },
  {
   "cell_type": "code",
   "execution_count": 19,
   "id": "65110e35",
   "metadata": {
    "execution": {
     "iopub.execute_input": "2023-04-09T06:41:26.813580Z",
     "iopub.status.busy": "2023-04-09T06:41:26.813143Z",
     "iopub.status.idle": "2023-04-09T06:41:26.836555Z",
     "shell.execute_reply": "2023-04-09T06:41:26.834808Z"
    },
    "papermill": {
     "duration": 0.041903,
     "end_time": "2023-04-09T06:41:26.844591",
     "exception": false,
     "start_time": "2023-04-09T06:41:26.802688",
     "status": "completed"
    },
    "tags": []
   },
   "outputs": [
    {
     "name": "stdout",
     "output_type": "stream",
     "text": [
      "Model: \"sequential\"\n",
      "_________________________________________________________________\n",
      " Layer (type)                Output Shape              Param #   \n",
      "=================================================================\n",
      " dense (Dense)               (None, 11)                132       \n",
      "                                                                 \n",
      " dense_1 (Dense)             (None, 11)                132       \n",
      "                                                                 \n",
      " dense_2 (Dense)             (None, 1)                 12        \n",
      "                                                                 \n",
      "=================================================================\n",
      "Total params: 276\n",
      "Trainable params: 276\n",
      "Non-trainable params: 0\n",
      "_________________________________________________________________\n"
     ]
    }
   ],
   "source": [
    "model.summary()"
   ]
  },
  {
   "cell_type": "code",
   "execution_count": 20,
   "id": "0feaac79",
   "metadata": {
    "execution": {
     "iopub.execute_input": "2023-04-09T06:41:26.867258Z",
     "iopub.status.busy": "2023-04-09T06:41:26.866802Z",
     "iopub.status.idle": "2023-04-09T06:41:26.887490Z",
     "shell.execute_reply": "2023-04-09T06:41:26.886431Z"
    },
    "papermill": {
     "duration": 0.035868,
     "end_time": "2023-04-09T06:41:26.890215",
     "exception": false,
     "start_time": "2023-04-09T06:41:26.854347",
     "status": "completed"
    },
    "tags": []
   },
   "outputs": [],
   "source": [
    "model.compile(loss='binary_crossentropy',optimizer='Adam',metrics=['accuracy'])"
   ]
  },
  {
   "cell_type": "code",
   "execution_count": 21,
   "id": "dad66162",
   "metadata": {
    "execution": {
     "iopub.execute_input": "2023-04-09T06:41:26.912672Z",
     "iopub.status.busy": "2023-04-09T06:41:26.912004Z",
     "iopub.status.idle": "2023-04-09T06:42:19.132927Z",
     "shell.execute_reply": "2023-04-09T06:42:19.131180Z"
    },
    "papermill": {
     "duration": 52.235914,
     "end_time": "2023-04-09T06:42:19.135950",
     "exception": false,
     "start_time": "2023-04-09T06:41:26.900036",
     "status": "completed"
    },
    "tags": []
   },
   "outputs": [
    {
     "name": "stdout",
     "output_type": "stream",
     "text": [
      "Epoch 1/100\n",
      "200/200 [==============================] - 2s 3ms/step - loss: 0.5065 - accuracy: 0.7972 - val_loss: 0.4993 - val_accuracy: 0.7975\n",
      "Epoch 2/100\n",
      "200/200 [==============================] - 0s 2ms/step - loss: 0.4914 - accuracy: 0.7972 - val_loss: 0.4824 - val_accuracy: 0.7975\n",
      "Epoch 3/100\n",
      "200/200 [==============================] - 1s 3ms/step - loss: 0.4693 - accuracy: 0.7972 - val_loss: 0.4599 - val_accuracy: 0.7975\n",
      "Epoch 4/100\n",
      "200/200 [==============================] - 1s 3ms/step - loss: 0.4478 - accuracy: 0.7972 - val_loss: 0.4432 - val_accuracy: 0.7975\n",
      "Epoch 5/100\n",
      "200/200 [==============================] - 1s 3ms/step - loss: 0.4341 - accuracy: 0.7972 - val_loss: 0.4346 - val_accuracy: 0.7975\n",
      "Epoch 6/100\n",
      "200/200 [==============================] - 1s 3ms/step - loss: 0.4276 - accuracy: 0.8037 - val_loss: 0.4301 - val_accuracy: 0.8087\n",
      "Epoch 7/100\n",
      "200/200 [==============================] - 0s 2ms/step - loss: 0.4241 - accuracy: 0.8111 - val_loss: 0.4280 - val_accuracy: 0.8106\n",
      "Epoch 8/100\n",
      "200/200 [==============================] - 0s 2ms/step - loss: 0.4217 - accuracy: 0.8153 - val_loss: 0.4251 - val_accuracy: 0.8087\n",
      "Epoch 9/100\n",
      "200/200 [==============================] - 1s 3ms/step - loss: 0.4198 - accuracy: 0.8169 - val_loss: 0.4227 - val_accuracy: 0.8106\n",
      "Epoch 10/100\n",
      "200/200 [==============================] - 1s 3ms/step - loss: 0.4176 - accuracy: 0.8180 - val_loss: 0.4202 - val_accuracy: 0.8106\n",
      "Epoch 11/100\n",
      "200/200 [==============================] - 1s 3ms/step - loss: 0.4154 - accuracy: 0.8195 - val_loss: 0.4178 - val_accuracy: 0.8144\n",
      "Epoch 12/100\n",
      "200/200 [==============================] - 0s 2ms/step - loss: 0.4131 - accuracy: 0.8211 - val_loss: 0.4156 - val_accuracy: 0.8169\n",
      "Epoch 13/100\n",
      "200/200 [==============================] - 0s 2ms/step - loss: 0.4109 - accuracy: 0.8252 - val_loss: 0.4129 - val_accuracy: 0.8219\n",
      "Epoch 14/100\n",
      "200/200 [==============================] - 1s 3ms/step - loss: 0.4085 - accuracy: 0.8269 - val_loss: 0.4102 - val_accuracy: 0.8231\n",
      "Epoch 15/100\n",
      "200/200 [==============================] - 0s 2ms/step - loss: 0.4062 - accuracy: 0.8286 - val_loss: 0.4068 - val_accuracy: 0.8288\n",
      "Epoch 16/100\n",
      "200/200 [==============================] - 0s 2ms/step - loss: 0.4032 - accuracy: 0.8317 - val_loss: 0.4039 - val_accuracy: 0.8306\n",
      "Epoch 17/100\n",
      "200/200 [==============================] - 0s 2ms/step - loss: 0.4008 - accuracy: 0.8330 - val_loss: 0.4012 - val_accuracy: 0.8313\n",
      "Epoch 18/100\n",
      "200/200 [==============================] - 0s 2ms/step - loss: 0.3981 - accuracy: 0.8348 - val_loss: 0.3982 - val_accuracy: 0.8331\n",
      "Epoch 19/100\n",
      "200/200 [==============================] - 1s 3ms/step - loss: 0.3954 - accuracy: 0.8375 - val_loss: 0.3956 - val_accuracy: 0.8325\n",
      "Epoch 20/100\n",
      "200/200 [==============================] - 0s 2ms/step - loss: 0.3930 - accuracy: 0.8370 - val_loss: 0.3920 - val_accuracy: 0.8350\n",
      "Epoch 21/100\n",
      "200/200 [==============================] - 0s 2ms/step - loss: 0.3903 - accuracy: 0.8397 - val_loss: 0.3894 - val_accuracy: 0.8369\n",
      "Epoch 22/100\n",
      "200/200 [==============================] - 0s 2ms/step - loss: 0.3878 - accuracy: 0.8423 - val_loss: 0.3871 - val_accuracy: 0.8369\n",
      "Epoch 23/100\n",
      "200/200 [==============================] - 0s 2ms/step - loss: 0.3854 - accuracy: 0.8417 - val_loss: 0.3837 - val_accuracy: 0.8413\n",
      "Epoch 24/100\n",
      "200/200 [==============================] - 1s 3ms/step - loss: 0.3830 - accuracy: 0.8433 - val_loss: 0.3814 - val_accuracy: 0.8394\n",
      "Epoch 25/100\n",
      "200/200 [==============================] - 0s 2ms/step - loss: 0.3808 - accuracy: 0.8444 - val_loss: 0.3789 - val_accuracy: 0.8431\n",
      "Epoch 26/100\n",
      "200/200 [==============================] - 0s 2ms/step - loss: 0.3781 - accuracy: 0.8445 - val_loss: 0.3766 - val_accuracy: 0.8419\n",
      "Epoch 27/100\n",
      "200/200 [==============================] - 0s 2ms/step - loss: 0.3762 - accuracy: 0.8475 - val_loss: 0.3744 - val_accuracy: 0.8462\n",
      "Epoch 28/100\n",
      "200/200 [==============================] - 0s 2ms/step - loss: 0.3739 - accuracy: 0.8491 - val_loss: 0.3720 - val_accuracy: 0.8469\n",
      "Epoch 29/100\n",
      "200/200 [==============================] - 0s 2ms/step - loss: 0.3724 - accuracy: 0.8494 - val_loss: 0.3699 - val_accuracy: 0.8469\n",
      "Epoch 30/100\n",
      "200/200 [==============================] - 0s 2ms/step - loss: 0.3704 - accuracy: 0.8509 - val_loss: 0.3699 - val_accuracy: 0.8456\n",
      "Epoch 31/100\n",
      "200/200 [==============================] - 1s 3ms/step - loss: 0.3686 - accuracy: 0.8505 - val_loss: 0.3665 - val_accuracy: 0.8481\n",
      "Epoch 32/100\n",
      "200/200 [==============================] - 1s 2ms/step - loss: 0.3661 - accuracy: 0.8527 - val_loss: 0.3661 - val_accuracy: 0.8456\n",
      "Epoch 33/100\n",
      "200/200 [==============================] - 0s 2ms/step - loss: 0.3649 - accuracy: 0.8537 - val_loss: 0.3628 - val_accuracy: 0.8500\n",
      "Epoch 34/100\n",
      "200/200 [==============================] - 0s 2ms/step - loss: 0.3630 - accuracy: 0.8542 - val_loss: 0.3610 - val_accuracy: 0.8500\n",
      "Epoch 35/100\n",
      "200/200 [==============================] - 1s 3ms/step - loss: 0.3616 - accuracy: 0.8545 - val_loss: 0.3599 - val_accuracy: 0.8525\n",
      "Epoch 36/100\n",
      "200/200 [==============================] - 1s 3ms/step - loss: 0.3602 - accuracy: 0.8553 - val_loss: 0.3582 - val_accuracy: 0.8506\n",
      "Epoch 37/100\n",
      "200/200 [==============================] - 1s 3ms/step - loss: 0.3588 - accuracy: 0.8573 - val_loss: 0.3571 - val_accuracy: 0.8531\n",
      "Epoch 38/100\n",
      "200/200 [==============================] - 0s 2ms/step - loss: 0.3574 - accuracy: 0.8569 - val_loss: 0.3558 - val_accuracy: 0.8525\n",
      "Epoch 39/100\n",
      "200/200 [==============================] - 0s 2ms/step - loss: 0.3563 - accuracy: 0.8564 - val_loss: 0.3546 - val_accuracy: 0.8525\n",
      "Epoch 40/100\n",
      "200/200 [==============================] - 0s 2ms/step - loss: 0.3549 - accuracy: 0.8572 - val_loss: 0.3539 - val_accuracy: 0.8544\n",
      "Epoch 41/100\n",
      "200/200 [==============================] - 0s 2ms/step - loss: 0.3537 - accuracy: 0.8589 - val_loss: 0.3532 - val_accuracy: 0.8550\n",
      "Epoch 42/100\n",
      "200/200 [==============================] - 1s 3ms/step - loss: 0.3527 - accuracy: 0.8584 - val_loss: 0.3518 - val_accuracy: 0.8550\n",
      "Epoch 43/100\n",
      "200/200 [==============================] - 1s 3ms/step - loss: 0.3516 - accuracy: 0.8608 - val_loss: 0.3509 - val_accuracy: 0.8537\n",
      "Epoch 44/100\n",
      "200/200 [==============================] - 0s 2ms/step - loss: 0.3504 - accuracy: 0.8584 - val_loss: 0.3504 - val_accuracy: 0.8544\n",
      "Epoch 45/100\n",
      "200/200 [==============================] - 1s 3ms/step - loss: 0.3496 - accuracy: 0.8609 - val_loss: 0.3514 - val_accuracy: 0.8544\n",
      "Epoch 46/100\n",
      "200/200 [==============================] - 0s 2ms/step - loss: 0.3487 - accuracy: 0.8608 - val_loss: 0.3495 - val_accuracy: 0.8550\n",
      "Epoch 47/100\n",
      "200/200 [==============================] - 1s 3ms/step - loss: 0.3478 - accuracy: 0.8603 - val_loss: 0.3485 - val_accuracy: 0.8537\n",
      "Epoch 48/100\n",
      "200/200 [==============================] - 0s 2ms/step - loss: 0.3474 - accuracy: 0.8609 - val_loss: 0.3478 - val_accuracy: 0.8550\n",
      "Epoch 49/100\n",
      "200/200 [==============================] - 0s 2ms/step - loss: 0.3464 - accuracy: 0.8617 - val_loss: 0.3478 - val_accuracy: 0.8537\n",
      "Epoch 50/100\n",
      "200/200 [==============================] - 0s 2ms/step - loss: 0.3457 - accuracy: 0.8614 - val_loss: 0.3477 - val_accuracy: 0.8544\n",
      "Epoch 51/100\n",
      "200/200 [==============================] - 0s 2ms/step - loss: 0.3448 - accuracy: 0.8620 - val_loss: 0.3456 - val_accuracy: 0.8550\n",
      "Epoch 52/100\n",
      "200/200 [==============================] - 1s 3ms/step - loss: 0.3443 - accuracy: 0.8622 - val_loss: 0.3458 - val_accuracy: 0.8562\n",
      "Epoch 53/100\n",
      "200/200 [==============================] - 0s 2ms/step - loss: 0.3439 - accuracy: 0.8614 - val_loss: 0.3452 - val_accuracy: 0.8562\n",
      "Epoch 54/100\n",
      "200/200 [==============================] - 0s 2ms/step - loss: 0.3429 - accuracy: 0.8602 - val_loss: 0.3453 - val_accuracy: 0.8556\n",
      "Epoch 55/100\n",
      "200/200 [==============================] - 1s 3ms/step - loss: 0.3426 - accuracy: 0.8614 - val_loss: 0.3454 - val_accuracy: 0.8550\n",
      "Epoch 56/100\n",
      "200/200 [==============================] - 0s 2ms/step - loss: 0.3420 - accuracy: 0.8609 - val_loss: 0.3443 - val_accuracy: 0.8556\n",
      "Epoch 57/100\n",
      "200/200 [==============================] - 0s 2ms/step - loss: 0.3415 - accuracy: 0.8623 - val_loss: 0.3433 - val_accuracy: 0.8550\n",
      "Epoch 58/100\n",
      "200/200 [==============================] - 0s 2ms/step - loss: 0.3410 - accuracy: 0.8630 - val_loss: 0.3436 - val_accuracy: 0.8550\n",
      "Epoch 59/100\n",
      "200/200 [==============================] - 1s 3ms/step - loss: 0.3401 - accuracy: 0.8625 - val_loss: 0.3445 - val_accuracy: 0.8531\n",
      "Epoch 60/100\n",
      "200/200 [==============================] - 0s 2ms/step - loss: 0.3400 - accuracy: 0.8634 - val_loss: 0.3434 - val_accuracy: 0.8562\n",
      "Epoch 61/100\n",
      "200/200 [==============================] - 0s 2ms/step - loss: 0.3396 - accuracy: 0.8606 - val_loss: 0.3426 - val_accuracy: 0.8575\n",
      "Epoch 62/100\n",
      "200/200 [==============================] - 1s 3ms/step - loss: 0.3388 - accuracy: 0.8634 - val_loss: 0.3435 - val_accuracy: 0.8544\n",
      "Epoch 63/100\n",
      "200/200 [==============================] - 0s 2ms/step - loss: 0.3385 - accuracy: 0.8627 - val_loss: 0.3416 - val_accuracy: 0.8562\n",
      "Epoch 64/100\n",
      "200/200 [==============================] - 0s 2ms/step - loss: 0.3382 - accuracy: 0.8625 - val_loss: 0.3421 - val_accuracy: 0.8569\n",
      "Epoch 65/100\n",
      "200/200 [==============================] - 1s 3ms/step - loss: 0.3379 - accuracy: 0.8627 - val_loss: 0.3421 - val_accuracy: 0.8575\n",
      "Epoch 66/100\n",
      "200/200 [==============================] - 0s 2ms/step - loss: 0.3374 - accuracy: 0.8631 - val_loss: 0.3419 - val_accuracy: 0.8569\n",
      "Epoch 67/100\n",
      "200/200 [==============================] - 1s 3ms/step - loss: 0.3370 - accuracy: 0.8634 - val_loss: 0.3421 - val_accuracy: 0.8575\n",
      "Epoch 68/100\n",
      "200/200 [==============================] - 1s 3ms/step - loss: 0.3364 - accuracy: 0.8627 - val_loss: 0.3412 - val_accuracy: 0.8581\n",
      "Epoch 69/100\n",
      "200/200 [==============================] - 1s 3ms/step - loss: 0.3363 - accuracy: 0.8620 - val_loss: 0.3413 - val_accuracy: 0.8562\n",
      "Epoch 70/100\n",
      "200/200 [==============================] - 0s 2ms/step - loss: 0.3362 - accuracy: 0.8631 - val_loss: 0.3405 - val_accuracy: 0.8587\n",
      "Epoch 71/100\n",
      "200/200 [==============================] - 1s 3ms/step - loss: 0.3359 - accuracy: 0.8620 - val_loss: 0.3405 - val_accuracy: 0.8569\n",
      "Epoch 72/100\n",
      "200/200 [==============================] - 0s 2ms/step - loss: 0.3352 - accuracy: 0.8620 - val_loss: 0.3428 - val_accuracy: 0.8550\n",
      "Epoch 73/100\n",
      "200/200 [==============================] - 0s 2ms/step - loss: 0.3354 - accuracy: 0.8623 - val_loss: 0.3399 - val_accuracy: 0.8594\n",
      "Epoch 74/100\n",
      "200/200 [==============================] - 1s 3ms/step - loss: 0.3352 - accuracy: 0.8619 - val_loss: 0.3412 - val_accuracy: 0.8581\n",
      "Epoch 75/100\n",
      "200/200 [==============================] - 1s 3ms/step - loss: 0.3344 - accuracy: 0.8631 - val_loss: 0.3403 - val_accuracy: 0.8587\n",
      "Epoch 76/100\n",
      "200/200 [==============================] - 1s 3ms/step - loss: 0.3341 - accuracy: 0.8628 - val_loss: 0.3420 - val_accuracy: 0.8556\n",
      "Epoch 77/100\n",
      "200/200 [==============================] - 0s 2ms/step - loss: 0.3340 - accuracy: 0.8630 - val_loss: 0.3407 - val_accuracy: 0.8556\n",
      "Epoch 78/100\n",
      "200/200 [==============================] - 0s 2ms/step - loss: 0.3340 - accuracy: 0.8634 - val_loss: 0.3396 - val_accuracy: 0.8594\n",
      "Epoch 79/100\n",
      "200/200 [==============================] - 0s 2ms/step - loss: 0.3333 - accuracy: 0.8630 - val_loss: 0.3402 - val_accuracy: 0.8581\n",
      "Epoch 80/100\n",
      "200/200 [==============================] - 1s 3ms/step - loss: 0.3335 - accuracy: 0.8616 - val_loss: 0.3400 - val_accuracy: 0.8581\n",
      "Epoch 81/100\n",
      "200/200 [==============================] - 0s 2ms/step - loss: 0.3331 - accuracy: 0.8630 - val_loss: 0.3398 - val_accuracy: 0.8581\n",
      "Epoch 82/100\n",
      "200/200 [==============================] - 0s 2ms/step - loss: 0.3326 - accuracy: 0.8611 - val_loss: 0.3385 - val_accuracy: 0.8631\n",
      "Epoch 83/100\n",
      "200/200 [==============================] - 0s 2ms/step - loss: 0.3326 - accuracy: 0.8630 - val_loss: 0.3389 - val_accuracy: 0.8587\n",
      "Epoch 84/100\n",
      "200/200 [==============================] - 1s 3ms/step - loss: 0.3323 - accuracy: 0.8622 - val_loss: 0.3395 - val_accuracy: 0.8556\n",
      "Epoch 85/100\n",
      "200/200 [==============================] - 0s 2ms/step - loss: 0.3320 - accuracy: 0.8627 - val_loss: 0.3396 - val_accuracy: 0.8569\n",
      "Epoch 86/100\n",
      "200/200 [==============================] - 0s 2ms/step - loss: 0.3322 - accuracy: 0.8622 - val_loss: 0.3401 - val_accuracy: 0.8575\n",
      "Epoch 87/100\n",
      "200/200 [==============================] - 0s 2ms/step - loss: 0.3313 - accuracy: 0.8619 - val_loss: 0.3382 - val_accuracy: 0.8612\n",
      "Epoch 88/100\n",
      "200/200 [==============================] - 1s 3ms/step - loss: 0.3316 - accuracy: 0.8627 - val_loss: 0.3387 - val_accuracy: 0.8619\n",
      "Epoch 89/100\n",
      "200/200 [==============================] - 1s 3ms/step - loss: 0.3313 - accuracy: 0.8628 - val_loss: 0.3394 - val_accuracy: 0.8581\n",
      "Epoch 90/100\n",
      "200/200 [==============================] - 0s 2ms/step - loss: 0.3310 - accuracy: 0.8627 - val_loss: 0.3385 - val_accuracy: 0.8612\n",
      "Epoch 91/100\n",
      "200/200 [==============================] - 1s 3ms/step - loss: 0.3307 - accuracy: 0.8633 - val_loss: 0.3386 - val_accuracy: 0.8587\n",
      "Epoch 92/100\n",
      "200/200 [==============================] - 0s 2ms/step - loss: 0.3306 - accuracy: 0.8630 - val_loss: 0.3388 - val_accuracy: 0.8619\n",
      "Epoch 93/100\n",
      "200/200 [==============================] - 0s 2ms/step - loss: 0.3308 - accuracy: 0.8612 - val_loss: 0.3412 - val_accuracy: 0.8600\n",
      "Epoch 94/100\n",
      "200/200 [==============================] - 0s 2ms/step - loss: 0.3308 - accuracy: 0.8625 - val_loss: 0.3388 - val_accuracy: 0.8600\n",
      "Epoch 95/100\n",
      "200/200 [==============================] - 0s 2ms/step - loss: 0.3301 - accuracy: 0.8637 - val_loss: 0.3391 - val_accuracy: 0.8569\n",
      "Epoch 96/100\n",
      "200/200 [==============================] - 0s 2ms/step - loss: 0.3306 - accuracy: 0.8631 - val_loss: 0.3372 - val_accuracy: 0.8600\n",
      "Epoch 97/100\n",
      "200/200 [==============================] - 0s 2ms/step - loss: 0.3299 - accuracy: 0.8622 - val_loss: 0.3398 - val_accuracy: 0.8581\n",
      "Epoch 98/100\n",
      "200/200 [==============================] - 0s 2ms/step - loss: 0.3297 - accuracy: 0.8628 - val_loss: 0.3377 - val_accuracy: 0.8606\n",
      "Epoch 99/100\n",
      "200/200 [==============================] - 0s 2ms/step - loss: 0.3292 - accuracy: 0.8628 - val_loss: 0.3387 - val_accuracy: 0.8606\n",
      "Epoch 100/100\n",
      "200/200 [==============================] - 1s 3ms/step - loss: 0.3291 - accuracy: 0.8634 - val_loss: 0.3422 - val_accuracy: 0.8581\n"
     ]
    }
   ],
   "source": [
    "history=model.fit(X_train_scaled,y_train,epochs=100,validation_split=0.2)"
   ]
  },
  {
   "cell_type": "code",
   "execution_count": 22,
   "id": "99fc345f",
   "metadata": {
    "execution": {
     "iopub.execute_input": "2023-04-09T06:42:19.282557Z",
     "iopub.status.busy": "2023-04-09T06:42:19.282136Z",
     "iopub.status.idle": "2023-04-09T06:42:19.295413Z",
     "shell.execute_reply": "2023-04-09T06:42:19.294046Z"
    },
    "papermill": {
     "duration": 0.090313,
     "end_time": "2023-04-09T06:42:19.298139",
     "exception": false,
     "start_time": "2023-04-09T06:42:19.207826",
     "status": "completed"
    },
    "tags": []
   },
   "outputs": [
    {
     "data": {
      "text/plain": [
       "[array([[-1.14559509e-01, -2.13908106e-01,  1.99045151e-01,\n",
       "          2.76469551e-02,  2.14987360e-02,  1.25082761e-01,\n",
       "          2.03750268e-01, -3.18933398e-01,  2.04979196e-01,\n",
       "         -3.41965929e-02, -2.42986828e-01],\n",
       "        [ 1.59710383e+00,  2.54772615e+00,  2.05725741e+00,\n",
       "         -7.84957349e-01, -1.68012941e+00,  5.58674894e-02,\n",
       "         -2.91241676e-01,  2.12137192e-01, -1.76841903e+00,\n",
       "         -1.20893323e+00,  1.99613452e-01],\n",
       "        [ 2.18737781e-01, -1.47874683e-01, -5.91889024e-01,\n",
       "         -1.25251651e-01, -2.11567983e-01,  2.11648285e-01,\n",
       "          1.34415045e-01, -2.54873842e-01, -4.10295069e-01,\n",
       "         -8.19293857e-02, -7.18002766e-02],\n",
       "        [-1.23334634e+00,  1.87747642e-01,  7.64346719e-02,\n",
       "         -6.67057216e-01, -5.45866229e-02,  4.12251800e-02,\n",
       "          5.67149341e-01,  1.02898162e-02,  1.96614504e-01,\n",
       "         -1.12633288e-01,  2.16240454e+00],\n",
       "        [ 2.07322448e-01,  6.09574765e-02,  6.25475705e-01,\n",
       "         -3.50846028e+00, -5.65218270e-01, -5.44904888e-01,\n",
       "         -8.91088486e-01, -7.56367862e-01, -2.27678642e-01,\n",
       "          1.27098894e+00,  1.39358509e+00],\n",
       "        [ 2.85198480e-01,  1.86295062e-02, -3.30399930e-01,\n",
       "         -1.37971178e-01,  3.06769818e-01, -8.32937583e-02,\n",
       "          3.23162138e-01, -4.71162610e-02, -4.31587696e-01,\n",
       "         -1.86682329e-01,  1.48775801e-01],\n",
       "        [ 6.92773461e-01,  1.93310305e-01,  8.91655207e-01,\n",
       "         -1.39693052e-01,  2.74272293e-01,  1.16290843e+00,\n",
       "          3.06483388e-01,  1.38945210e+00, -1.34827268e+00,\n",
       "          7.92471230e-01, -1.25754863e-01],\n",
       "        [-2.62970626e-01, -4.88303691e-01,  4.58240032e-01,\n",
       "         -1.06361322e-02, -3.23467582e-01, -3.65242571e-01,\n",
       "         -2.07433522e-01,  2.27098122e-01,  7.18857571e-02,\n",
       "         -1.12295203e-01,  1.54855132e-01],\n",
       "        [ 8.17251727e-02, -5.92901520e-02,  8.75054800e-04,\n",
       "          1.21454068e-01,  4.03361917e-02, -1.52966112e-01,\n",
       "          6.41918361e-01,  2.77767330e-01,  4.15597344e-03,\n",
       "         -2.96406686e-01,  1.15631258e+00],\n",
       "        [-1.18718475e-01, -1.96473375e-02, -5.97201884e-01,\n",
       "         -1.28609940e-01,  3.93276215e-01, -4.16285634e-01,\n",
       "         -2.43501827e-01,  1.53966889e-01, -6.45189524e-01,\n",
       "         -4.05560508e-02,  1.08813256e-01],\n",
       "        [-2.25945190e-01,  1.44837081e-01, -4.39682640e-02,\n",
       "         -1.60357542e-02, -8.92449636e-03,  3.28204662e-01,\n",
       "          1.67182088e-01,  1.21309969e-03,  1.11163734e-02,\n",
       "         -1.77906319e-01, -9.86454338e-02]], dtype=float32),\n",
       " array([ 0.4384491 , -1.3447541 , -0.00477623, -1.4444304 ,  0.51618755,\n",
       "         0.70543236,  0.6656275 ,  0.23332539, -0.36997932, -1.3253891 ,\n",
       "        -0.87856865], dtype=float32)]"
      ]
     },
     "execution_count": 22,
     "metadata": {},
     "output_type": "execute_result"
    }
   ],
   "source": [
    "#hidden layer\n",
    "model.layers[0].get_weights()"
   ]
  },
  {
   "cell_type": "code",
   "execution_count": 23,
   "id": "f1747993",
   "metadata": {
    "execution": {
     "iopub.execute_input": "2023-04-09T06:42:19.445799Z",
     "iopub.status.busy": "2023-04-09T06:42:19.445361Z",
     "iopub.status.idle": "2023-04-09T06:42:19.460033Z",
     "shell.execute_reply": "2023-04-09T06:42:19.458206Z"
    },
    "papermill": {
     "duration": 0.094435,
     "end_time": "2023-04-09T06:42:19.465062",
     "exception": false,
     "start_time": "2023-04-09T06:42:19.370627",
     "status": "completed"
    },
    "tags": []
   },
   "outputs": [
    {
     "data": {
      "text/plain": [
       "[array([[-0.09386639, -0.62636316,  0.5334015 ,  0.2586567 ,  0.3444382 ,\n",
       "          0.12705304, -0.290348  , -0.13308577,  0.26391852, -0.10815253,\n",
       "         -0.08629648],\n",
       "        [-0.31824747, -0.93316036,  0.3552728 ,  0.6648323 , -0.40050864,\n",
       "         -0.12354212, -0.7761157 , -0.08986887, -1.2512587 , -0.7081153 ,\n",
       "         -0.47309113],\n",
       "        [-0.59020275, -0.14218   ,  0.12696196,  0.44575843, -0.80398184,\n",
       "         -0.5481035 , -0.43924007, -0.40780106, -0.1108389 , -0.75124156,\n",
       "         -0.7365391 ],\n",
       "        [-2.2896836 , -1.5429642 ,  1.7215889 ,  2.171747  , -2.3569026 ,\n",
       "         -2.5185306 , -1.9234787 , -2.7563543 , -1.980286  , -1.506873  ,\n",
       "         -1.3021412 ],\n",
       "        [ 0.07600645,  0.9475183 , -0.11859989, -0.81051755,  0.14895177,\n",
       "          0.34753418,  0.32847178, -0.22819772,  0.9887908 ,  0.40119427,\n",
       "         -0.00915245],\n",
       "        [ 1.0534418 ,  0.6502687 , -0.75233287, -0.5596863 ,  0.8312489 ,\n",
       "          1.030041  ,  0.35974637,  1.1840527 ,  0.28666404,  0.56694484,\n",
       "          0.13477522],\n",
       "        [ 0.03777517,  0.33176747, -0.46212494, -0.52074766, -0.09521654,\n",
       "         -0.22030668,  0.6973212 , -0.35522133,  0.30841908,  0.7258028 ,\n",
       "          0.35101232],\n",
       "        [ 1.2095152 ,  1.3797059 , -1.0487592 , -1.3127573 ,  1.2463694 ,\n",
       "          0.9425958 ,  1.2176658 ,  1.4873511 ,  0.7247833 ,  0.6457806 ,\n",
       "          1.1259009 ],\n",
       "        [ 0.7147736 ,  0.38186586, -0.19527112, -1.1973561 ,  1.1713659 ,\n",
       "          0.5624267 ,  1.3603232 ,  0.14156426,  1.4246984 ,  0.774714  ,\n",
       "          1.1462384 ],\n",
       "        [-1.2758371 , -1.4180186 ,  0.74937385,  1.5461682 , -1.2833763 ,\n",
       "         -1.2088649 , -0.9896449 , -1.3067853 , -1.5111389 , -0.91273504,\n",
       "         -0.8230147 ],\n",
       "        [-1.1464616 , -0.41861686,  1.2173843 ,  0.47694862, -0.9782545 ,\n",
       "         -1.3675156 , -0.94107354, -1.0191519 , -0.5230826 , -1.002177  ,\n",
       "         -1.1421396 ]], dtype=float32),\n",
       " array([ 0.1960657 ,  0.11860869,  0.10505524, -0.14576921,  0.13296194,\n",
       "         0.1212284 ,  0.25425646,  0.03700262,  0.11380982,  0.21398197,\n",
       "         0.06292774], dtype=float32)]"
      ]
     },
     "execution_count": 23,
     "metadata": {},
     "output_type": "execute_result"
    }
   ],
   "source": [
    "#output layer\n",
    "model.layers[1].get_weights()"
   ]
  },
  {
   "cell_type": "code",
   "execution_count": 24,
   "id": "e301c84c",
   "metadata": {
    "execution": {
     "iopub.execute_input": "2023-04-09T06:42:19.629485Z",
     "iopub.status.busy": "2023-04-09T06:42:19.629094Z",
     "iopub.status.idle": "2023-04-09T06:42:20.098695Z",
     "shell.execute_reply": "2023-04-09T06:42:20.097621Z"
    },
    "papermill": {
     "duration": 0.545956,
     "end_time": "2023-04-09T06:42:20.101650",
     "exception": false,
     "start_time": "2023-04-09T06:42:19.555694",
     "status": "completed"
    },
    "tags": []
   },
   "outputs": [
    {
     "name": "stdout",
     "output_type": "stream",
     "text": [
      "63/63 [==============================] - 0s 1ms/step\n"
     ]
    }
   ],
   "source": [
    "y_ans=model.predict(X_test_scaled)"
   ]
  },
  {
   "cell_type": "code",
   "execution_count": 25,
   "id": "fa537aba",
   "metadata": {
    "execution": {
     "iopub.execute_input": "2023-04-09T06:42:20.249625Z",
     "iopub.status.busy": "2023-04-09T06:42:20.248248Z",
     "iopub.status.idle": "2023-04-09T06:42:20.254506Z",
     "shell.execute_reply": "2023-04-09T06:42:20.253180Z"
    },
    "papermill": {
     "duration": 0.082784,
     "end_time": "2023-04-09T06:42:20.257059",
     "exception": false,
     "start_time": "2023-04-09T06:42:20.174275",
     "status": "completed"
    },
    "tags": []
   },
   "outputs": [],
   "source": [
    "y_pred=np.where(y_ans>0.5,1,0)"
   ]
  },
  {
   "cell_type": "code",
   "execution_count": 26,
   "id": "3f97c3ab",
   "metadata": {
    "execution": {
     "iopub.execute_input": "2023-04-09T06:42:20.405633Z",
     "iopub.status.busy": "2023-04-09T06:42:20.404428Z",
     "iopub.status.idle": "2023-04-09T06:42:20.413528Z",
     "shell.execute_reply": "2023-04-09T06:42:20.412317Z"
    },
    "papermill": {
     "duration": 0.085644,
     "end_time": "2023-04-09T06:42:20.416187",
     "exception": false,
     "start_time": "2023-04-09T06:42:20.330543",
     "status": "completed"
    },
    "tags": []
   },
   "outputs": [
    {
     "data": {
      "text/plain": [
       "0.8605"
      ]
     },
     "execution_count": 26,
     "metadata": {},
     "output_type": "execute_result"
    }
   ],
   "source": [
    "from sklearn.metrics import accuracy_score\n",
    "accuracy_score(y_test,y_pred)"
   ]
  },
  {
   "cell_type": "code",
   "execution_count": 27,
   "id": "aad62e01",
   "metadata": {
    "execution": {
     "iopub.execute_input": "2023-04-09T06:42:20.566826Z",
     "iopub.status.busy": "2023-04-09T06:42:20.565460Z",
     "iopub.status.idle": "2023-04-09T06:42:20.571026Z",
     "shell.execute_reply": "2023-04-09T06:42:20.569832Z"
    },
    "papermill": {
     "duration": 0.085041,
     "end_time": "2023-04-09T06:42:20.573989",
     "exception": false,
     "start_time": "2023-04-09T06:42:20.488948",
     "status": "completed"
    },
    "tags": []
   },
   "outputs": [],
   "source": [
    "import matplotlib.pyplot as plt"
   ]
  },
  {
   "cell_type": "code",
   "execution_count": 28,
   "id": "25453823",
   "metadata": {
    "execution": {
     "iopub.execute_input": "2023-04-09T06:42:20.722086Z",
     "iopub.status.busy": "2023-04-09T06:42:20.721631Z",
     "iopub.status.idle": "2023-04-09T06:42:21.003481Z",
     "shell.execute_reply": "2023-04-09T06:42:21.002265Z"
    },
    "papermill": {
     "duration": 0.35868,
     "end_time": "2023-04-09T06:42:21.006453",
     "exception": false,
     "start_time": "2023-04-09T06:42:20.647773",
     "status": "completed"
    },
    "tags": []
   },
   "outputs": [
    {
     "data": {
      "text/plain": [
       "[<matplotlib.lines.Line2D at 0x769884736f10>]"
      ]
     },
     "execution_count": 28,
     "metadata": {},
     "output_type": "execute_result"
    },
    {
     "data": {
      "image/png": "[encoded data removed]",
      "text/plain": [
       "<Figure size 640x480 with 1 Axes>"
      ]
     },
     "metadata": {},
     "output_type": "display_data"
    }
   ],
   "source": [
    "# how our training loss is decreasing\n",
    "plt.plot(history.history['loss'])\n",
    "#how our validation loss is decreasing\n",
    "plt.plot(history.history['val_loss'],c='r')"
   ]
  },
  {
   "cell_type": "code",
   "execution_count": 29,
   "id": "105b1c83",
   "metadata": {
    "execution": {
     "iopub.execute_input": "2023-04-09T06:42:21.156589Z",
     "iopub.status.busy": "2023-04-09T06:42:21.156153Z",
     "iopub.status.idle": "2023-04-09T06:42:21.339451Z",
     "shell.execute_reply": "2023-04-09T06:42:21.338254Z"
    },
    "papermill": {
     "duration": 0.261708,
     "end_time": "2023-04-09T06:42:21.342344",
     "exception": false,
     "start_time": "2023-04-09T06:42:21.080636",
     "status": "completed"
    },
    "tags": []
   },
   "outputs": [
    {
     "data": {
      "text/plain": [
       "[<matplotlib.lines.Line2D at 0x76988458bb90>]"
      ]
     },
     "execution_count": 29,
     "metadata": {},
     "output_type": "execute_result"
    },
    {
     "data": {
      "image/png": "[encoded data removed]",
      "text/plain": [
       "<Figure size 640x480 with 1 Axes>"
      ]
     },
     "metadata": {},
     "output_type": "display_data"
    }
   ],
   "source": [
    "plt.plot(history.history['accuracy'])\n",
    "plt.plot(history.history['val_accuracy'],c='r')"
   ]
  },
  {
   "cell_type": "code",
   "execution_count": null,
   "id": "de28c1d3",
   "metadata": {
    "papermill": {
     "duration": 0.076288,
     "end_time": "2023-04-09T06:42:21.491730",
     "exception": false,
     "start_time": "2023-04-09T06:42:21.415442",
     "status": "completed"
    },
    "tags": []
   },
   "outputs": [],
   "source": []
  },
  {
   "cell_type": "code",
   "execution_count": null,
   "id": "07f78c86",
   "metadata": {
    "papermill": {
     "duration": 0.074398,
     "end_time": "2023-04-09T06:42:21.638683",
     "exception": false,
     "start_time": "2023-04-09T06:42:21.564285",
     "status": "completed"
    },
    "tags": []
   },
   "outputs": [],
   "source": []
  }
 ],
 "metadata": {
  "kernelspec": {
   "display_name": "Python 3",
   "language": "python",
   "name": "python3"
  },
  "language_info": {
   "codemirror_mode": {
    "name": "ipython",
    "version": 3
   },
   "file_extension": ".py",
   "mimetype": "text/x-python",
   "name": "python",
   "nbconvert_exporter": "python",
   "pygments_lexer": "ipython3",
   "version": "3.7.12"
  },
  "papermill": {
   "default_parameters": {},
   "duration": 81.946939,
   "end_time": "2023-04-09T06:42:25.282281",
   "environment_variables": {},
   "exception": null,
   "input_path": "__notebook__.ipynb",
   "output_path": "__notebook__.ipynb",
   "parameters": {},
   "start_time": "2023-04-09T06:41:03.335342",
   "version": "2.4.0"
  }
 },
 "nbformat": 4,
 "nbformat_minor": 5
}
